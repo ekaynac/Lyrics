{
 "cells": [
  {
   "cell_type": "code",
   "execution_count": 1,
   "metadata": {
    "Collapsed": "false"
   },
   "outputs": [],
   "source": [
    "import spotipy\n",
    "import tkinter as tk"
   ]
  },
  {
   "cell_type": "code",
   "execution_count": 2,
   "metadata": {
    "Collapsed": "false"
   },
   "outputs": [],
   "source": [
    "token = spotipy.util.prompt_for_user_token(username=\"pvtqqmad0m5cy9u18wasficu6\",client_id='e441790dbf264ebd8f2d8d66b1a070bf',\n",
    "                           client_secret='39ecb39fda5d4afa8ead68459d80d4ce',redirect_uri=\"http://localhost:8080\",scope=\"user-read-currently-playing\")"
   ]
  },
  {
   "cell_type": "code",
   "execution_count": 3,
   "metadata": {
    "Collapsed": "false"
   },
   "outputs": [],
   "source": [
    "import spotipy\n",
    "from spotipy.oauth2 import SpotifyOAuth\n",
    "\n",
    "scope = 'user-follow-read'\n",
    "sp = spotipy.Spotify(auth=token)"
   ]
  },
  {
   "cell_type": "code",
   "execution_count": 4,
   "metadata": {
    "Collapsed": "false"
   },
   "outputs": [],
   "source": [
    "import lyricsgenius\n",
    "token = \"zUlnosicoueSA3l0i_wOVgxLIdt2FzXL1xfaVxqNWoPH6V2lIJiLYQVW8DE7T74Q\"\n",
    "genius = lyricsgenius.Genius(token)"
   ]
  },
  {
   "cell_type": "code",
   "execution_count": 5,
   "metadata": {
    "Collapsed": "false"
   },
   "outputs": [],
   "source": [
    "def Findlyrics():\n",
    "    currently_playing_dict = sp.current_user_playing_track()\n",
    "    \n",
    "    currently_playing_song = currently_playing_dict[\"item\"][\"name\"]\n",
    "    currently_playing_artist = currently_playing_dict[\"item\"][\"artists\"][0][\"name\"]\n",
    "    \n",
    "    song = genius.search_song(currently_playing_song, currently_playing_artist)\n",
    "    \n",
    "    return song.lyrics, currently_playing_artist, currently_playing_song\n",
    "    "
   ]
  },
  {
   "cell_type": "code",
   "execution_count": 6,
   "metadata": {
    "Collapsed": "false"
   },
   "outputs": [],
   "source": [
    "class Test():\n",
    "    def __init__(self):\n",
    "        self.root = tk.Tk()\n",
    "        self.root.geometry(\"800x1000\")\n",
    "        self.text = tk.Text(self.root,height = 100, width = 100)\n",
    "        self.button = tk.Button(self.root,\n",
    "                                text=\"Yenile\",\n",
    "                                command=self.changeText)\n",
    "        self.button.pack()\n",
    "        self.text.pack(side=\"left\")\n",
    "        self.root.mainloop()\n",
    "        \n",
    "\n",
    "    def changeText(self):\n",
    "        current_list = Findlyrics()\n",
    "        self.text.delete(1.0,tk.END)\n",
    "        self.text.insert(tk.END, current_list[0])\n"
   ]
  },
  {
   "cell_type": "code",
   "execution_count": 7,
   "metadata": {
    "Collapsed": "false"
   },
   "outputs": [
    {
     "name": "stdout",
     "output_type": "stream",
     "text": [
      "Searching for \"Nantes\" by Beirut...\n",
      "Done.\n",
      "Searching for \"Nantes\" by Beirut...\n",
      "Done.\n"
     ]
    },
    {
     "data": {
      "text/plain": [
       "<__main__.Test at 0x27ad8727288>"
      ]
     },
     "execution_count": 7,
     "metadata": {},
     "output_type": "execute_result"
    }
   ],
   "source": [
    "Test()"
   ]
  },
  {
   "cell_type": "code",
   "execution_count": null,
   "metadata": {
    "Collapsed": "false"
   },
   "outputs": [],
   "source": []
  }
 ],
 "metadata": {
  "kernelspec": {
   "display_name": "Python 3",
   "language": "python",
   "name": "python3"
  },
  "language_info": {
   "codemirror_mode": {
    "name": "ipython",
    "version": 3
   },
   "file_extension": ".py",
   "mimetype": "text/x-python",
   "name": "python",
   "nbconvert_exporter": "python",
   "pygments_lexer": "ipython3",
   "version": "3.7.7"
  }
 },
 "nbformat": 4,
 "nbformat_minor": 4
}
